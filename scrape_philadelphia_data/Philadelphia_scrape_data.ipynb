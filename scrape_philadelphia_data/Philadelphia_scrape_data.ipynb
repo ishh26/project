{
  "nbformat": 4,
  "nbformat_minor": 0,
  "metadata": {
    "colab": {
      "name": "Try_w_Phil.ipynb",
      "provenance": [],
      "collapsed_sections": []
    },
    "kernelspec": {
      "name": "python3",
      "display_name": "Python 3"
    },
    "language_info": {
      "name": "python"
    }
  },
  "cells": [
    {
      "cell_type": "markdown",
      "source": [
        "## **DOWNLOAD KAGGLE DATASET INTO GOOGLECOLAB**"
      ],
      "metadata": {
        "id": "6Bi2g1wvhnzf"
      }
    },
    {
      "cell_type": "code",
      "source": [
        "#Install kaggle\n",
        "!pip install -q kaggle"
      ],
      "metadata": {
        "id": "s-Gyv2f05qTk"
      },
      "execution_count": 30,
      "outputs": []
    },
    {
      "cell_type": "code",
      "source": [
        "#Upload kaggle.json from local systema\n",
        "from google.colab import files\n",
        "files.upload()"
      ],
      "metadata": {
        "colab": {
          "resources": {
            "http://localhost:8080/nbextensions/google.colab/files.js": {
              "data": "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",
              "ok": true,
              "headers": [
                [
                  "content-type",
                  "application/javascript"
                ]
              ],
              "status": 200,
              "status_text": ""
            }
          },
          "base_uri": "https://localhost:8080/",
          "height": 93
        },
        "id": "2_u-DqYZHCRE",
        "outputId": "d0c3d963-2c92-462e-b07d-db0f1eb7e837"
      },
      "execution_count": 31,
      "outputs": [
        {
          "output_type": "display_data",
          "data": {
            "text/plain": [
              "<IPython.core.display.HTML object>"
            ],
            "text/html": [
              "\n",
              "     <input type=\"file\" id=\"files-a5611604-1467-4562-8f4b-7bfe5d948bd3\" name=\"files[]\" multiple disabled\n",
              "        style=\"border:none\" />\n",
              "     <output id=\"result-a5611604-1467-4562-8f4b-7bfe5d948bd3\">\n",
              "      Upload widget is only available when the cell has been executed in the\n",
              "      current browser session. Please rerun this cell to enable.\n",
              "      </output>\n",
              "      <script src=\"/nbextensions/google.colab/files.js\"></script> "
            ]
          },
          "metadata": {}
        },
        {
          "output_type": "stream",
          "name": "stdout",
          "text": [
            "Saving kaggle.json to kaggle (1).json\n"
          ]
        },
        {
          "output_type": "execute_result",
          "data": {
            "text/plain": [
              "{'kaggle.json': b'{\"username\":\"jesusa505\",\"key\":\"d42124d79a265a2731133c718b18d657\"}'}"
            ]
          },
          "metadata": {},
          "execution_count": 31
        }
      ]
    },
    {
      "cell_type": "code",
      "source": [
        "#Create a kaggle folder\n",
        "! mkdir ~/.kaggle"
      ],
      "metadata": {
        "id": "QI5xsus_HNWK",
        "colab": {
          "base_uri": "https://localhost:8080/"
        },
        "outputId": "371041e6-6b94-4807-b4e0-30f3e7eb6ce2"
      },
      "execution_count": 32,
      "outputs": [
        {
          "output_type": "stream",
          "name": "stdout",
          "text": [
            "mkdir: cannot create directory ‘/root/.kaggle’: File exists\n"
          ]
        }
      ]
    },
    {
      "cell_type": "code",
      "source": [
        "#Copy the kaggle.json to folder created\n",
        "! cp kaggle.json ~/.kaggle/"
      ],
      "metadata": {
        "id": "ndStOxs6HV4I"
      },
      "execution_count": 33,
      "outputs": []
    },
    {
      "cell_type": "code",
      "source": [
        "#Permission for the json to act\n",
        "! chmod 600 ~/.kaggle/kaggle.json "
      ],
      "metadata": {
        "id": "Q0xl3O0vHhCD"
      },
      "execution_count": 34,
      "outputs": []
    },
    {
      "cell_type": "code",
      "source": [
        "! kaggle datasets download -d yelp-dataset/yelp-dataset"
      ],
      "metadata": {
        "colab": {
          "base_uri": "https://localhost:8080/"
        },
        "id": "WW1SMjYjH2d5",
        "outputId": "08c8dfb6-e076-4019-95c2-a267235fc5b0"
      },
      "execution_count": 35,
      "outputs": [
        {
          "output_type": "stream",
          "name": "stdout",
          "text": [
            "Downloading yelp-dataset.zip to /content\n",
            "100% 4.06G/4.07G [00:27<00:00, 162MB/s]\n",
            "100% 4.07G/4.07G [00:28<00:00, 156MB/s]\n"
          ]
        }
      ]
    },
    {
      "cell_type": "code",
      "source": [
        "! unzip yelp-dataset.zip"
      ],
      "metadata": {
        "colab": {
          "base_uri": "https://localhost:8080/"
        },
        "id": "aOw_MqAmIbyz",
        "outputId": "389aa86f-d949-4cb6-bed6-c22aa45446a2"
      },
      "execution_count": 36,
      "outputs": [
        {
          "output_type": "stream",
          "name": "stdout",
          "text": [
            "Archive:  yelp-dataset.zip\n",
            "  inflating: Dataset_User_Agreement.pdf  \n",
            "  inflating: yelp_academic_dataset_business.json  \n",
            "  inflating: yelp_academic_dataset_checkin.json  \n",
            "  inflating: yelp_academic_dataset_review.json  \n",
            "  inflating: yelp_academic_dataset_tip.json  \n",
            "  inflating: yelp_academic_dataset_user.json  \n"
          ]
        }
      ]
    },
    {
      "cell_type": "markdown",
      "source": [
        "# **Install Spark into Google Colab**"
      ],
      "metadata": {
        "id": "4o4vhsG6Br0j"
      }
    },
    {
      "cell_type": "code",
      "source": [
        "#Install spark\n",
        "\n",
        "import os\n",
        "# Find the latest version of spark 3.0 from http://www.apache.org/dist/spark/ and enter as the spark version\n",
        "# For example:\n",
        "# spark_version = 'spark-3.0.3'\n",
        "spark_version = 'spark-3.1.3'\n",
        "os.environ['SPARK_VERSION']=spark_version\n",
        "\n",
        "# Install Spark and Java\n",
        "!apt-get update\n",
        "!apt-get install openjdk-11-jdk-headless -qq > /dev/null\n",
        "!wget -q http://www.apache.org/dist/spark/$SPARK_VERSION/$SPARK_VERSION-bin-hadoop2.7.tgz\n",
        "!tar xf $SPARK_VERSION-bin-hadoop2.7.tgz\n",
        "!pip install -q findspark\n",
        "\n",
        "# Set Environment Variables\n",
        "import os\n",
        "os.environ[\"JAVA_HOME\"] = \"/usr/lib/jvm/java-11-openjdk-amd64\"\n",
        "os.environ[\"SPARK_HOME\"] = f\"/content/{spark_version}-bin-hadoop2.7\"\n",
        "\n",
        "# Start a SparkSession\n",
        "import findspark\n",
        "findspark.init()"
      ],
      "metadata": {
        "colab": {
          "base_uri": "https://localhost:8080/"
        },
        "id": "fwLLHuzhjqEP",
        "outputId": "a469af5f-0f4f-4b10-f6f5-579048f602c2"
      },
      "execution_count": 1,
      "outputs": [
        {
          "output_type": "stream",
          "name": "stdout",
          "text": [
            "Hit:1 https://cloud.r-project.org/bin/linux/ubuntu bionic-cran40/ InRelease\n",
            "Ign:2 https://developer.download.nvidia.com/compute/machine-learning/repos/ubuntu1804/x86_64  InRelease\n",
            "Hit:3 https://developer.download.nvidia.com/compute/cuda/repos/ubuntu1804/x86_64  InRelease\n",
            "Hit:4 https://developer.download.nvidia.com/compute/machine-learning/repos/ubuntu1804/x86_64  Release\n",
            "Hit:5 http://archive.ubuntu.com/ubuntu bionic InRelease\n",
            "Get:6 http://security.ubuntu.com/ubuntu bionic-security InRelease [88.7 kB]\n",
            "Get:7 http://archive.ubuntu.com/ubuntu bionic-updates InRelease [88.7 kB]\n",
            "Hit:8 http://ppa.launchpad.net/c2d4u.team/c2d4u4.0+/ubuntu bionic InRelease\n",
            "Get:9 http://archive.ubuntu.com/ubuntu bionic-backports InRelease [74.6 kB]\n",
            "Hit:10 http://ppa.launchpad.net/cran/libgit2/ubuntu bionic InRelease\n",
            "Hit:11 http://ppa.launchpad.net/deadsnakes/ppa/ubuntu bionic InRelease\n",
            "Hit:13 http://ppa.launchpad.net/graphics-drivers/ppa/ubuntu bionic InRelease\n",
            "Fetched 252 kB in 3s (82.1 kB/s)\n",
            "Reading package lists... Done\n"
          ]
        }
      ]
    },
    {
      "cell_type": "code",
      "source": [
        "#Start a Spark session\n",
        "from pyspark.sql import SparkSession\n",
        "from pyspark.sql.window import Window\n",
        "from pyspark.sql.functions import col, row_number\n",
        "\n",
        "spark = SparkSession.builder.appName(\"DataFramesJson\").getOrCreate()"
      ],
      "metadata": {
        "id": "8iAFCc2j1RL-"
      },
      "execution_count": 2,
      "outputs": []
    },
    {
      "cell_type": "code",
      "source": [
        "#Read reviews file into a pyspark df\n",
        "yelp_reviews = spark.read.json('yelp_academic_dataset_review.json')"
      ],
      "metadata": {
        "id": "ug99JvKgJ65r"
      },
      "execution_count": 3,
      "outputs": []
    },
    {
      "cell_type": "code",
      "source": [
        "yelp_reviews.show()"
      ],
      "metadata": {
        "colab": {
          "base_uri": "https://localhost:8080/"
        },
        "id": "EYcUT56Sj6LP",
        "outputId": "41c72544-03aa-4f84-ffa4-eab01182d510"
      },
      "execution_count": 4,
      "outputs": [
        {
          "output_type": "stream",
          "name": "stdout",
          "text": [
            "+--------------------+----+-------------------+-----+--------------------+-----+--------------------+------+--------------------+\n",
            "|         business_id|cool|               date|funny|           review_id|stars|                text|useful|             user_id|\n",
            "+--------------------+----+-------------------+-----+--------------------+-----+--------------------+------+--------------------+\n",
            "|XQfwVwDr-v0ZS3_Cb...|   0|2018-07-07 22:09:11|    0|KU_O5udG6zpxOg-Vc...|  3.0|If you decide to ...|     0|mh_-eMZ6K5RLWhZyI...|\n",
            "|7ATYjTIgM3jUlt4UM...|   1|2012-01-03 15:28:18|    0|BiTunyQ73aT9WBnpR...|  5.0|I've taken a lot ...|     1|OyoGAe7OKpv6SyGZT...|\n",
            "|YjUWPpI6HXG530lwP...|   0|2014-02-05 20:30:30|    0|saUsX_uimxRlCVr67...|  3.0|Family diner. Had...|     0|8g_iMtfSiwikVnbP2...|\n",
            "|kxX2SOes4o-D3ZQBk...|   1|2015-01-04 00:01:03|    0|AqPFMleE6RsU23_au...|  5.0|Wow!  Yummy, diff...|     1|_7bHUi9Uuf5__HHc_...|\n",
            "|e4Vwtrqf-wpJfwesg...|   1|2017-01-14 20:54:15|    0|Sx8TMOWLNuJBWer-0...|  4.0|Cute interior and...|     1|bcjbaE6dDog4jkNY9...|\n",
            "|04UD14gamNjLY0IDY...|   1|2015-09-23 23:10:31|    2|JrIxlS1TzJ-iCu79u...|  1.0|I am a long term ...|     1|eUta8W_HdHMXPzLBB...|\n",
            "|gmjsEdUsKpj9Xxu6p...|   0|2015-01-03 23:21:18|    2|6AxgBCNX_PNTOxmbR...|  5.0|Loved this tour! ...|     0|r3zeYsv1XFBRA4dJp...|\n",
            "|LHSTtnW3YHCeUkRDG...|   0|2015-08-07 02:29:16|    0|_ZeMknuYdlQcUqng_...|  5.0|Amazingly amazing...|     2|yfFzsLmaWF2d4Sr0U...|\n",
            "|B5XSoSG3SfvQGtKEG...|   0|2016-03-30 22:46:33|    1|ZKvDG2sBvHVdF5oBN...|  3.0|This easter inste...|     1|wSTuiTk-sKNdcFypr...|\n",
            "|gebiRewfieSdtt17P...|   0|2016-07-25 07:31:06|    0|pUycOfUwM8vqX7KjR...|  3.0|Had a party of 6 ...|     0|59MxRhNVhU9MYndMk...|\n",
            "|uMvVYRgGNXf5boolA...|   0|2015-06-21 14:48:06|    0|rGQRf8UafX7OTlMNN...|  5.0|My experience wit...|     2|1WHRWwQmZOZDAhp2Q...|\n",
            "|EQ-TZ2eeD_E0BHuvo...|   0|2015-08-19 14:31:45|    0|l3Wk_mvAog6XANIuG...|  4.0|Locals recommende...|     0|ZbqSHbgCjzVAqaa7N...|\n",
            "|lj-E32x9_FA7GmUrB...|   0|2014-06-27 22:44:01|    0|XW_LfMv0fV21l9c6x...|  4.0|Love going here f...|     0|9OAtfnWag-ajVxRbU...|\n",
            "|RZtGWDLCAtuipwaZ-...|   0|2009-10-14 19:57:14|    0|8JFGBuHMoiNDyfcxu...|  4.0|Good food--loved ...|     0|smOvOajNG0lS4Pq7d...|\n",
            "|otQS34_MymijPTdNB...|   0|2011-10-27 17:12:05|    2|UBp0zWyH60Hmw6Fsa...|  4.0|The bun makes the...|     0|4Uh27DgGzsp6PqrH9...|\n",
            "|BVndHaLihEYbr76Z0...|   0|2014-10-11 16:22:06|    0|OAhBYw8IQ6wlfw1ow...|  5.0|Great place for b...|     0|1C2lxzUo1Hyye4RFI...|\n",
            "|YtSqYv1Q_pOltsVPS...|   0|2013-06-24 11:21:25|    0|oyaMhzBSwfGgemSGu...|  5.0|Tremendous servic...|     0|Dd1jQj7S-BFGqRbAp...|\n",
            "|rBdG_23USc7DletfZ...|   0|2014-08-10 19:41:43|    0|LnGZB0fjfgeVDVz5I...|  4.0|The hubby and I h...|     1|j2wlzrntrbKwyOcOi...|\n",
            "|CLEWowfkj-wKYJlQD...|   1|2016-03-07 00:02:18|    0|u2vzZaOqJ2feRshaa...|  5.0|I go to blow bar ...|     2|NDZvyYHTUWWu-kqgQ...|\n",
            "|eFvzHawVJofxSnD7T...|   0|2014-11-12 15:30:27|    0|Xs8Z8lmKkosqW5mw_...|  5.0|My absolute favor...|     0|IQsF3Rc6IgCzjVV9D...|\n",
            "+--------------------+----+-------------------+-----+--------------------+-----+--------------------+------+--------------------+\n",
            "only showing top 20 rows\n",
            "\n"
          ]
        }
      ]
    },
    {
      "cell_type": "code",
      "source": [
        "#Read businesses file intro a dataframe\n",
        "businesses_df = spark.read.json('yelp_academic_dataset_business.json')\n",
        "\n",
        "#Filter only categories related to restaurants in the business_df\n",
        "restaurants_df = businesses_df.where(businesses_df.categories.like('%Restaurants%'))"
      ],
      "metadata": {
        "id": "PKGbCEA-j9pA"
      },
      "execution_count": 5,
      "outputs": []
    },
    {
      "cell_type": "code",
      "source": [
        "restaurants_df.show()"
      ],
      "metadata": {
        "colab": {
          "base_uri": "https://localhost:8080/"
        },
        "id": "rTwLqYkCkQeJ",
        "outputId": "f17091b9-ace6-4f30-ef9b-118abc3c4a15"
      },
      "execution_count": 6,
      "outputs": [
        {
          "output_type": "stream",
          "name": "stdout",
          "text": [
            "+--------------------+--------------------+--------------------+--------------------+------------+--------------------+-------+-------------+--------------+--------------------+-----------+------------+-----+-----+\n",
            "|             address|          attributes|         business_id|          categories|        city|               hours|is_open|     latitude|     longitude|                name|postal_code|review_count|stars|state|\n",
            "+--------------------+--------------------+--------------------+--------------------+------------+--------------------+-------+-------------+--------------+--------------------+-----------+------------+-----+-----+\n",
            "|         935 Race St|{null, null, u'no...|MTSW4McQd7CbVtyjq...|Restaurants, Food...|Philadelphia|{7:0-21:0, 7:0-20...|      1|   39.9555052|   -75.1555641|  St Honore Pastries|      19107|          80|  4.0|   PA|\n",
            "|       615 S Main St|{null, null, u'no...|CF33F8-E6oudUQ46H...|Burgers, Fast Foo...|Ashland City|{9:0-0:0, 0:0-0:0...|      1|    36.269593|    -87.058943|      Sonic Drive-In|      37015|           6|  2.0|   TN|\n",
            "|   8025 Mackenzie Rd|{null, null, u'fu...|k0hlBqXX-Bt0vf1op...|Pubs, Restaurants...|      Affton|                null|      0|   38.5651648|   -90.3210868|Tsevi's Pub And G...|      63123|          19|  3.0|   MO|\n",
            "| 2312 Dickerson Pike|{null, null, u'no...|bBDDEgkFA1Otx9Lfe...|Ice Cream & Froze...|   Nashville|{6:0-16:0, 0:0-0:...|      1|   36.2081024|   -86.7681696|      Sonic Drive-In|      37207|          10|  1.5|   TN|\n",
            "|                    |{null, null, 'non...|eEOYSgkmpB90uNA7l...|Vietnamese, Food,...|   Tampa Bay|{11:0-14:0, 11:0-...|      1|   27.9552692|   -82.4563199|Vietnamese Food T...|      33602|          10|  4.0|   FL|\n",
            "|        8901 US 31 S|{null, null, 'non...|il_Ro8jwPlHresjw9...|American (Traditi...|Indianapolis|{6:0-22:0, 6:0-22...|      1|39.6371332838| -86.127217412|             Denny's|      46227|          28|  2.5|   IN|\n",
            "|       2575 E Bay Dr|{null, null, u'no...|0bPLkL0QhhPO5kt1_...|Food, Delis, Ital...|       Largo|{10:0-20:0, 10:0-...|      0|   27.9161159|   -82.7604608|Zio's Italian Market|      33771|         100|  4.5|   FL|\n",
            "|         205 Race St|{null, null, 'ful...|MUTTqe8uqyMdBl186...|Sushi Bars, Resta...|Philadelphia|{13:30-23:0, null...|      1|    39.953949|   -75.1432262|            Tuna Bar|      19106|         245|  4.0|   PA|\n",
            "|       1224 South St|{null, null, u'no...|ROeacJQwBeh05Rqg7...| Korean, Restaurants|Philadelphia|{11:30-20:30, 11:...|      1|    39.943223|    -75.162568|                 BAP|      19147|         205|  4.5|   PA|\n",
            "| 10359 104 Street NW|{null, null, u'be...|WKMJwqnfZKsAae75R...|Coffee & Tea, Foo...|    Edmonton|{8:0-18:0, 8:0-18...|      0|   53.5460453|  -113.4991693|Roast Coffeehouse...|    T5J 1B9|          40|  4.0|   AB|\n",
            "|      6625 E 82nd St|{null, null, null...|kfNv-JZpuN6TVNSO6...|Steakhouses, Asia...|Indianapolis|{11:0-21:0, 11:0-...|      1|39.9043203184|   -86.0530799|     Hibachi Express|      46250|          20|  4.0|   IN|\n",
            "|  5505 S Virginia St|{null, null, 'ful...|9OG5YkX1g2GReZM0A...|Restaurants, Italian|        Reno|{11:0-21:0, 11:0-...|      1|   39.4761165|  -119.7893392|Romano's Macaroni...|      89502|         339|  2.5|   NV|\n",
            "|1160 Gallatin Pike S|{null, null, u'be...|4iRzR7OaS-QaSXuvY...|Hot Dogs, Restaur...|   Nashville|                null|      0|   36.2485696|   -86.7199857|           Super Dog|      37115|           6|  4.0|   TN|\n",
            "|       215 1st Ave S|{null, null, u'fu...|tMkwHmWFUEXrC9Zdu...|Restaurants, Japa...|   Nashville|{16:0-23:0, null,...|      0|   36.1598858|   -86.7731974|  The Green Pheasant|      37201|         161|  4.0|   TN|\n",
            "|        767 S 9th St|{null, null, u'fu...|QdN72BWoyFypdGJhh...|Cocktail Bars, Ba...|Philadelphia|{12:0-2:0, 16:0-0...|      0|39.9398245705|-75.1574465632|             Bar One|      19147|          65|  4.0|   PA|\n",
            "|   3001 Highway 31 W|{null, null, null...|sqSqqLy0sN8n2IZrA...|Pizza, Chicken Wi...| White House|{10:0-1:0, 10:0-0...|      1|36.4647467622|-86.6591868908|      Domino's Pizza|      37188|           8|  3.5|   TN|\n",
            "|        4105 Main St|{null, null, u'no...|Mjboz24M9NlBeiOJK...|Pizza, Restaurant...|Philadelphia|{17:0-0:30, null,...|      0|   40.0224662|    -75.218314|    DeSandro on Main|      19127|          41|  3.0|   PA|\n",
            "|   10 Rittenhouse Pl|{null, null, u'no...|kV_Q1oqis8Qli8dUo...|  Pizza, Restaurants|     Ardmore|{11:0-1:0, 11:0-0...|      1|   40.0067071|    -75.289671|       Ardmore Pizza|      19003|         109|  3.5|   PA|\n",
            "|  901 N Delaware Ave|{null, null, null...|aPNXGTDkf-4bjhyMB...|Eatertainment, Ar...|Philadelphia|{16:0-19:0, 0:0-0...|      1|   39.9625821|   -75.1356571|          Craft Hall|      19123|          65|  3.5|   PA|\n",
            "|116 N Pottstown Pike|{null, null, u'fu...|2xVsWBNFwZOxIOdd9...|Restaurants, Burgers|       Exton|                null|      0|    40.029962|    -75.630607|Cheeseburger In P...|      19341|          20|  2.5|   PA|\n",
            "+--------------------+--------------------+--------------------+--------------------+------------+--------------------+-------+-------------+--------------+--------------------+-----------+------------+-----+-----+\n",
            "only showing top 20 rows\n",
            "\n"
          ]
        }
      ]
    },
    {
      "cell_type": "code",
      "source": [
        "#Filter businesses_df only for the city of Philadelphia ordering in descendent by review counts \n",
        "#Ph_businesses = restaurants_df.where(businesses_df.city == 'Philadelphia')\n",
        "Ph_businesses = restaurants_df.where(businesses_df.city == 'Philadelphia').orderBy( restaurants_df.review_count.desc())\n",
        "\n",
        "#Rename columns in order to join with yelp_reviews dataframe\n",
        "Ph_businesses = Ph_businesses.withColumnRenamed('business_id','ID' )\n",
        "Ph_businesses = Ph_businesses.withColumnRenamed('stars','stars_business' )\n",
        "\n",
        "#Drop attributes column\n",
        "Ph_businesses = Ph_businesses.drop('attributes','hours','is_open','state')"
      ],
      "metadata": {
        "id": "XIxAvOzOkp4b"
      },
      "execution_count": 7,
      "outputs": []
    },
    {
      "cell_type": "code",
      "source": [
        "Ph_businesses.show()"
      ],
      "metadata": {
        "colab": {
          "base_uri": "https://localhost:8080/"
        },
        "id": "uGFpr46QFN3L",
        "outputId": "84e1a7d1-5e4a-4f81-eeb6-5046512988c1"
      },
      "execution_count": 8,
      "outputs": [
        {
          "output_type": "stream",
          "name": "stdout",
          "text": [
            "+-------------------+--------------------+--------------------+------------+-------------+--------------+--------------------+-----------+------------+--------------+\n",
            "|            address|                  ID|          categories|        city|     latitude|     longitude|                name|postal_code|review_count|stars_business|\n",
            "+-------------------+--------------------+--------------------+------------+-------------+--------------+--------------------+-----------+------------+--------------+\n",
            "|       51 N 12th St|ytynqOUb3hjKeJfRj...|Candy Stores, Sho...|Philadelphia|39.9533414645|-75.1588545174|Reading Terminal ...|      19107|        5721|           4.5|\n",
            "|1237 E Passyunk Ave|PP3BBaVxZLcJU54uP...|Italian, American...|Philadelphia|39.9332010583| -75.159265814|Pat's King of Steaks|      19147|        4250|           3.0|\n",
            "|      1219 S 9th St|IkY2ticzHEn4QFn8h...|Sandwiches, Chees...|Philadelphia| 39.933836785|-75.1588137524|       Geno's Steaks|      19147|        3401|           2.5|\n",
            "|      121 S 13th St|9PZxjhTIU7OgPIzuG...|Lounges, Bars, Ni...|Philadelphia|39.9497020026|-75.1617702842|              El Vez|      19107|        3187|           4.0|\n",
            "|    237 St James Pl|ctHjyadbDQAtUFfkc...|Nightlife, Bars, ...|Philadelphia|39.9462611465|-75.1451350779|               Zahav|      19106|        3065|           4.5|\n",
            "|      110 S 13th St|6ajnOk0GcY9xbb5Oc...|Mediterranean, Re...|Philadelphia|    39.950007|   -75.1621577|            Barbuzzo|      19107|        2893|           4.5|\n",
            "|      227 S 18th St|j-qtdD55OLfSqfsWu...|Restaurants, Fren...|Philadelphia|   39.9491724|   -75.1707273|                Parc|      19103|        2761|           4.0|\n",
            "|           400 S St|sTPueJEwcRDj7ZJmG...|Bars, Restaurants...|Philadelphia|    39.941498|    -75.149272|      Jim's South St|      19147|        2736|           3.5|\n",
            "|    600 Wendover St|RQAF6a0akMiot5lZZ...|Sandwiches, Delis...|Philadelphia|    40.029494|   -75.2059714|Dalessandro’s Ste...|      19128|        2686|           4.0|\n",
            "|      212 S 13th St|0RuvlgTnKFbX3IK0Z...|Restaurants, Amer...|Philadelphia|39.9481225533|-75.1624631121|     Green Eggs Café|      19107|        2679|           4.0|\n",
            "|       1020 Race St|AGlh4ZDv6jnoiYfz7...|Chinese, Restaura...|Philadelphia|    39.955399|    -75.156727|      Dim Sum Garden|      19107|        2672|           4.0|\n",
            "|      124 S 18th St|8pqdJjefYq-a9IBSJ...|British, Restaura...|Philadelphia|    39.951004|    -75.170636|       The Dandelion|      19103|        2497|           4.0|\n",
            "|       1136 Arch St|IWHdx0NhDKADkGOgX...|Restaurants, Amer...|Philadelphia|  39.95347837|-75.1593960603|       Tommy DiNic's|      19147|        2221|           4.0|\n",
            "|       1022 Race St|ntiIq1FNqduOyyowM...|Specialty Food, N...|Philadelphia|39.9554005671|-75.1569010986|Nan Zhou Hand Dra...|      19107|        2188|           4.0|\n",
            "|      264 S 16th St|OdIBX09glfXNVSyd0...|Nightlife, Pubs, ...|Philadelphia|    39.947701|   -75.1682869|         Monk's Cafe|      19102|        2184|           4.0|\n",
            "|    217 Chestnut St|S8ZFYEgMejpChID8t...|Spanish, Restaura...|Philadelphia|39.9485863525|-75.1449131188|               Amada|      19106|        2109|           4.0|\n",
            "|      124 S 13th St|kZ1q0K13tFYG_ZJrV...|Thai, American (N...|Philadelphia|39.9495313759|-75.1621570259|              Sampan|      19107|        2000|           4.0|\n",
            "|210 W Washington Sq|i_FWONQD1ZBqrNE2b...|American (New), R...|Philadelphia|39.9473272218|-75.1535421779|     Talula's Garden|      19106|        1927|           4.5|\n",
            "|    723 Chestnut St|6_T2xzR74JqGCTPef...|Japanese, America...|Philadelphia|39.9496652299|-75.1532727008|            Morimoto|      19106|        1914|           4.5|\n",
            "|    39 E Oregon Ave|q-zV08jt6U-q05SME...|Sandwiches, Fashi...|Philadelphia|39.9141065086|-75.1487272304|The Original Tony...|      19148|        1910|           4.0|\n",
            "+-------------------+--------------------+--------------------+------------+-------------+--------------+--------------------+-----------+------------+--------------+\n",
            "only showing top 20 rows\n",
            "\n"
          ]
        }
      ]
    },
    {
      "cell_type": "code",
      "source": [
        "#Get the schema of the Philadelphia df\n",
        "Ph_businesses.printSchema()"
      ],
      "metadata": {
        "colab": {
          "base_uri": "https://localhost:8080/"
        },
        "id": "SN8B-GwWkWVr",
        "outputId": "7f2658ea-43ac-489d-8ca3-5a4261b89536"
      },
      "execution_count": 9,
      "outputs": [
        {
          "output_type": "stream",
          "name": "stdout",
          "text": [
            "root\n",
            " |-- address: string (nullable = true)\n",
            " |-- ID: string (nullable = true)\n",
            " |-- categories: string (nullable = true)\n",
            " |-- city: string (nullable = true)\n",
            " |-- latitude: double (nullable = true)\n",
            " |-- longitude: double (nullable = true)\n",
            " |-- name: string (nullable = true)\n",
            " |-- postal_code: string (nullable = true)\n",
            " |-- review_count: long (nullable = true)\n",
            " |-- stars_business: double (nullable = true)\n",
            "\n"
          ]
        }
      ]
    },
    {
      "cell_type": "code",
      "source": [
        "#Save a dataframe into a file with unique restaurant ID, to use for location \n",
        "\n",
        "#Create a window function and patitionby ID column\n",
        "w2 = Window.partitionBy('ID').orderBy(col('ID'))\n",
        "#Add a new row column to use as an index using the function row_number, apply it on the partition by and filter first 10 rows.\n",
        "#Unique_restaurants = Ph_businesses.withColumn('row',row_number().over(w2)).filter(col('row')==1).drop(\"row\")\n",
        "Unique_restaurants = Ph_businesses.withColumn('row',row_number().over(w2)).filter(col('row')==1).orderBy( Ph_businesses.review_count.desc() ).drop(\"row\")\n",
        "Unique_restaurants = Unique_restaurants.limit(1000)"
      ],
      "metadata": {
        "id": "mzfgCitt22DH"
      },
      "execution_count": 10,
      "outputs": []
    },
    {
      "cell_type": "code",
      "source": [
        "Unique_restaurants.count()"
      ],
      "metadata": {
        "colab": {
          "base_uri": "https://localhost:8080/"
        },
        "id": "2tI7pL8T3qZs",
        "outputId": "007f24e9-48fd-464b-9a91-35ae95be3e0c"
      },
      "execution_count": 11,
      "outputs": [
        {
          "output_type": "execute_result",
          "data": {
            "text/plain": [
              "1000"
            ]
          },
          "metadata": {},
          "execution_count": 11
        }
      ]
    },
    {
      "cell_type": "code",
      "source": [
        "Unique_restaurants.show()"
      ],
      "metadata": {
        "colab": {
          "base_uri": "https://localhost:8080/"
        },
        "id": "X75gQpxkOIGP",
        "outputId": "45ae7ba1-cd2f-4826-d2d0-50cf6e4c494a"
      },
      "execution_count": 12,
      "outputs": [
        {
          "output_type": "stream",
          "name": "stdout",
          "text": [
            "+-------------------+--------------------+--------------------+------------+-------------+--------------+--------------------+-----------+------------+--------------+\n",
            "|            address|                  ID|          categories|        city|     latitude|     longitude|                name|postal_code|review_count|stars_business|\n",
            "+-------------------+--------------------+--------------------+------------+-------------+--------------+--------------------+-----------+------------+--------------+\n",
            "|       51 N 12th St|ytynqOUb3hjKeJfRj...|Candy Stores, Sho...|Philadelphia|39.9533414645|-75.1588545174|Reading Terminal ...|      19107|        5721|           4.5|\n",
            "|1237 E Passyunk Ave|PP3BBaVxZLcJU54uP...|Italian, American...|Philadelphia|39.9332010583| -75.159265814|Pat's King of Steaks|      19147|        4250|           3.0|\n",
            "|      1219 S 9th St|IkY2ticzHEn4QFn8h...|Sandwiches, Chees...|Philadelphia| 39.933836785|-75.1588137524|       Geno's Steaks|      19147|        3401|           2.5|\n",
            "|      121 S 13th St|9PZxjhTIU7OgPIzuG...|Lounges, Bars, Ni...|Philadelphia|39.9497020026|-75.1617702842|              El Vez|      19107|        3187|           4.0|\n",
            "|    237 St James Pl|ctHjyadbDQAtUFfkc...|Nightlife, Bars, ...|Philadelphia|39.9462611465|-75.1451350779|               Zahav|      19106|        3065|           4.5|\n",
            "|      110 S 13th St|6ajnOk0GcY9xbb5Oc...|Mediterranean, Re...|Philadelphia|    39.950007|   -75.1621577|            Barbuzzo|      19107|        2893|           4.5|\n",
            "|      227 S 18th St|j-qtdD55OLfSqfsWu...|Restaurants, Fren...|Philadelphia|   39.9491724|   -75.1707273|                Parc|      19103|        2761|           4.0|\n",
            "|           400 S St|sTPueJEwcRDj7ZJmG...|Bars, Restaurants...|Philadelphia|    39.941498|    -75.149272|      Jim's South St|      19147|        2736|           3.5|\n",
            "|    600 Wendover St|RQAF6a0akMiot5lZZ...|Sandwiches, Delis...|Philadelphia|    40.029494|   -75.2059714|Dalessandro’s Ste...|      19128|        2686|           4.0|\n",
            "|      212 S 13th St|0RuvlgTnKFbX3IK0Z...|Restaurants, Amer...|Philadelphia|39.9481225533|-75.1624631121|     Green Eggs Café|      19107|        2679|           4.0|\n",
            "|       1020 Race St|AGlh4ZDv6jnoiYfz7...|Chinese, Restaura...|Philadelphia|    39.955399|    -75.156727|      Dim Sum Garden|      19107|        2672|           4.0|\n",
            "|      124 S 18th St|8pqdJjefYq-a9IBSJ...|British, Restaura...|Philadelphia|    39.951004|    -75.170636|       The Dandelion|      19103|        2497|           4.0|\n",
            "|       1136 Arch St|IWHdx0NhDKADkGOgX...|Restaurants, Amer...|Philadelphia|  39.95347837|-75.1593960603|       Tommy DiNic's|      19147|        2221|           4.0|\n",
            "|       1022 Race St|ntiIq1FNqduOyyowM...|Specialty Food, N...|Philadelphia|39.9554005671|-75.1569010986|Nan Zhou Hand Dra...|      19107|        2188|           4.0|\n",
            "|      264 S 16th St|OdIBX09glfXNVSyd0...|Nightlife, Pubs, ...|Philadelphia|    39.947701|   -75.1682869|         Monk's Cafe|      19102|        2184|           4.0|\n",
            "|    217 Chestnut St|S8ZFYEgMejpChID8t...|Spanish, Restaura...|Philadelphia|39.9485863525|-75.1449131188|               Amada|      19106|        2109|           4.0|\n",
            "|      124 S 13th St|kZ1q0K13tFYG_ZJrV...|Thai, American (N...|Philadelphia|39.9495313759|-75.1621570259|              Sampan|      19107|        2000|           4.0|\n",
            "|210 W Washington Sq|i_FWONQD1ZBqrNE2b...|American (New), R...|Philadelphia|39.9473272218|-75.1535421779|     Talula's Garden|      19106|        1927|           4.5|\n",
            "|    723 Chestnut St|6_T2xzR74JqGCTPef...|Japanese, America...|Philadelphia|39.9496652299|-75.1532727008|            Morimoto|      19106|        1914|           4.5|\n",
            "|    39 E Oregon Ave|q-zV08jt6U-q05SME...|Sandwiches, Fashi...|Philadelphia|39.9141065086|-75.1487272304|The Original Tony...|      19148|        1910|           4.0|\n",
            "+-------------------+--------------------+--------------------+------------+-------------+--------------+--------------------+-----------+------------+--------------+\n",
            "only showing top 20 rows\n",
            "\n"
          ]
        }
      ]
    },
    {
      "cell_type": "code",
      "source": [
        "#Save dataframe to csv\n",
        "Unique_restaurants.write.options(header=True, delimiter=\",\").csv('csv/', mode='overwrite')"
      ],
      "metadata": {
        "id": "nQOH7pIF5ShX"
      },
      "execution_count": 13,
      "outputs": []
    },
    {
      "cell_type": "code",
      "source": [
        "#Get the schema of the yelp reviews df\n",
        "yelp_reviews.printSchema()"
      ],
      "metadata": {
        "colab": {
          "base_uri": "https://localhost:8080/"
        },
        "id": "5Edrlc_mkWeo",
        "outputId": "22ca04f3-0cd2-4bc5-ff45-94f41d955866"
      },
      "execution_count": 14,
      "outputs": [
        {
          "output_type": "stream",
          "name": "stdout",
          "text": [
            "root\n",
            " |-- business_id: string (nullable = true)\n",
            " |-- cool: long (nullable = true)\n",
            " |-- date: string (nullable = true)\n",
            " |-- funny: long (nullable = true)\n",
            " |-- review_id: string (nullable = true)\n",
            " |-- stars: double (nullable = true)\n",
            " |-- text: string (nullable = true)\n",
            " |-- useful: long (nullable = true)\n",
            " |-- user_id: string (nullable = true)\n",
            "\n"
          ]
        }
      ]
    },
    {
      "cell_type": "code",
      "source": [
        "#Join the yelp_reviews and Ph_businesses dataframes using the ID and business_id as the matching field to get as many reviews per restaurant as possible\n",
        "#combined_data = Ph_businesses.join(yelp_reviews, Ph_businesses.ID == yelp_reviews.business_id, how='left')\n",
        "combined_data = Ph_businesses.join(yelp_reviews, Ph_businesses.ID == yelp_reviews.business_id, how='left')\n",
        "combined_data.show()"
      ],
      "metadata": {
        "colab": {
          "base_uri": "https://localhost:8080/"
        },
        "id": "OAvAsGULkiWV",
        "outputId": "ceb1f100-6815-4fd6-b33a-f1c3c0b4a636"
      },
      "execution_count": 15,
      "outputs": [
        {
          "output_type": "stream",
          "name": "stdout",
          "text": [
            "+--------------------+--------------------+--------------------+------------+------------+-------------+----------------+-----------+------------+--------------+--------------------+----+-------------------+-----+--------------------+-----+--------------------+------+--------------------+\n",
            "|             address|                  ID|          categories|        city|    latitude|    longitude|            name|postal_code|review_count|stars_business|         business_id|cool|               date|funny|           review_id|stars|                text|useful|             user_id|\n",
            "+--------------------+--------------------+--------------------+------------+------------+-------------+----------------+-----------+------------+--------------+--------------------+----+-------------------+-----+--------------------+-----+--------------------+------+--------------------+\n",
            "|4040 City Ave, Bl...|-fjIX9bvBKwXjQWfd...|Breakfast & Brunc...|Philadelphia|40.007403796|-75.212711425|Real Food Eatery|      19131|          45|           4.0|-fjIX9bvBKwXjQWfd...|   0|2018-11-09 16:10:53|    0|gfg7XYlbDn1G8Tv_h...|  5.0|So glad RFE is no...|     0|dfmf8bihaZp-gjivD...|\n",
            "|4040 City Ave, Bl...|-fjIX9bvBKwXjQWfd...|Breakfast & Brunc...|Philadelphia|40.007403796|-75.212711425|Real Food Eatery|      19131|          45|           4.0|-fjIX9bvBKwXjQWfd...|   0|2019-01-08 20:38:54|    0|whLMbeKPdOuPyXfh8...|  5.0|Warm salmon, vegg...|     1|FsE1Nn5PGdFzqq2hB...|\n",
            "|4040 City Ave, Bl...|-fjIX9bvBKwXjQWfd...|Breakfast & Brunc...|Philadelphia|40.007403796|-75.212711425|Real Food Eatery|      19131|          45|           4.0|-fjIX9bvBKwXjQWfd...|   0|2018-11-09 17:33:59|    0|n_LHm2U5jNpj6nUi8...|  5.0|Have been to the ...|     0|AOFSRsOYMIgo3UGVo...|\n",
            "|4040 City Ave, Bl...|-fjIX9bvBKwXjQWfd...|Breakfast & Brunc...|Philadelphia|40.007403796|-75.212711425|Real Food Eatery|      19131|          45|           4.0|-fjIX9bvBKwXjQWfd...|   0|2019-01-06 20:53:11|    0|tP6pEovEh-Z3DXsb5...|  5.0|I Like this place...|     0|hRJ7Umyz3l_YEoyCF...|\n",
            "|4040 City Ave, Bl...|-fjIX9bvBKwXjQWfd...|Breakfast & Brunc...|Philadelphia|40.007403796|-75.212711425|Real Food Eatery|      19131|          45|           4.0|-fjIX9bvBKwXjQWfd...|   0|2018-11-03 20:29:17|    0|Dr2UH7P1Gt8XsUb0s...|  1.0|Was so excited fo...|     1|l62tGg2Icm2h0pcua...|\n",
            "|4040 City Ave, Bl...|-fjIX9bvBKwXjQWfd...|Breakfast & Brunc...|Philadelphia|40.007403796|-75.212711425|Real Food Eatery|      19131|          45|           4.0|-fjIX9bvBKwXjQWfd...|   0|2018-12-19 17:32:26|    0|qtNtJn72Gm1ZWc-YI...|  5.0|Delicious flavors...|     0|G9Ev3FJn7W39ufL6X...|\n",
            "|4040 City Ave, Bl...|-fjIX9bvBKwXjQWfd...|Breakfast & Brunc...|Philadelphia|40.007403796|-75.212711425|Real Food Eatery|      19131|          45|           4.0|-fjIX9bvBKwXjQWfd...|   0|2019-01-15 01:41:10|    0|T8cceSPHosQ5FC1-E...|  4.0|Delicious and hea...|     0|e3Y3KRmdWRywLNadn...|\n",
            "|4040 City Ave, Bl...|-fjIX9bvBKwXjQWfd...|Breakfast & Brunc...|Philadelphia|40.007403796|-75.212711425|Real Food Eatery|      19131|          45|           4.0|-fjIX9bvBKwXjQWfd...|   0|2019-01-27 23:12:27|    0|WOvj7mfc6O3k8xdpC...|  4.0|I decided to give...|     0|SXHNkZfxbRnKIWKro...|\n",
            "|4040 City Ave, Bl...|-fjIX9bvBKwXjQWfd...|Breakfast & Brunc...|Philadelphia|40.007403796|-75.212711425|Real Food Eatery|      19131|          45|           4.0|-fjIX9bvBKwXjQWfd...|   0|2018-12-01 16:39:03|    0|wnFVbucMLkHCosQCC...|  5.0|I got the egg bow...|     0|nVETQCSxAK8p_5zMQ...|\n",
            "|4040 City Ave, Bl...|-fjIX9bvBKwXjQWfd...|Breakfast & Brunc...|Philadelphia|40.007403796|-75.212711425|Real Food Eatery|      19131|          45|           4.0|-fjIX9bvBKwXjQWfd...|   0|2019-12-28 02:35:34|    0|F57J96VXpiLvWfvwM...|  3.0|I've been here a ...|     1|iegcWY56QGCcizNy-...|\n",
            "|4040 City Ave, Bl...|-fjIX9bvBKwXjQWfd...|Breakfast & Brunc...|Philadelphia|40.007403796|-75.212711425|Real Food Eatery|      19131|          45|           4.0|-fjIX9bvBKwXjQWfd...|   0|2018-12-23 02:05:31|    0|pSwM_OjHiuJMWsya7...|  5.0|Checked out this ...|     0|qneyusrGWVXRFrso7...|\n",
            "|4040 City Ave, Bl...|-fjIX9bvBKwXjQWfd...|Breakfast & Brunc...|Philadelphia|40.007403796|-75.212711425|Real Food Eatery|      19131|          45|           4.0|-fjIX9bvBKwXjQWfd...|   0|2019-06-29 13:28:28|    0|lklGlcPJO5VNU-2QA...|  5.0|Good food and ver...|     0|HuDw_e3JhtiPW7QwR...|\n",
            "|4040 City Ave, Bl...|-fjIX9bvBKwXjQWfd...|Breakfast & Brunc...|Philadelphia|40.007403796|-75.212711425|Real Food Eatery|      19131|          45|           4.0|-fjIX9bvBKwXjQWfd...|   0|2019-07-14 21:22:24|    0|4DlSsAsnp7GAUOynN...|  4.0|Great option for ...|     0|CtWi0D1F1yM4D2p3V...|\n",
            "|4040 City Ave, Bl...|-fjIX9bvBKwXjQWfd...|Breakfast & Brunc...|Philadelphia|40.007403796|-75.212711425|Real Food Eatery|      19131|          45|           4.0|-fjIX9bvBKwXjQWfd...|   1|2019-10-08 00:22:07|    1|wklPE8Wp4Vc0_0dJA...|  4.0|I thought the foo...|     1|J4qYTqjDS0yTpSs6G...|\n",
            "|4040 City Ave, Bl...|-fjIX9bvBKwXjQWfd...|Breakfast & Brunc...|Philadelphia|40.007403796|-75.212711425|Real Food Eatery|      19131|          45|           4.0|-fjIX9bvBKwXjQWfd...|   0|2019-05-21 13:52:45|    0|SWF11deMFX2EWKdue...|  3.0|Makes a change to...|     0|4Z3ObAKgwennH7Ufv...|\n",
            "|4040 City Ave, Bl...|-fjIX9bvBKwXjQWfd...|Breakfast & Brunc...|Philadelphia|40.007403796|-75.212711425|Real Food Eatery|      19131|          45|           4.0|-fjIX9bvBKwXjQWfd...|   0|2019-06-13 13:35:51|    0|PbM6alKn36hYV66nQ...|  5.0|3 words. Add. The...|     0|Iu1nwxX8ULizpIwAf...|\n",
            "|4040 City Ave, Bl...|-fjIX9bvBKwXjQWfd...|Breakfast & Brunc...|Philadelphia|40.007403796|-75.212711425|Real Food Eatery|      19131|          45|           4.0|-fjIX9bvBKwXjQWfd...|   0|2019-11-01 16:18:50|    0|HKE2QCrviFPdnUTrF...|  5.0|This place is too...|     0|KMSxkXZucyuUO43LK...|\n",
            "|4040 City Ave, Bl...|-fjIX9bvBKwXjQWfd...|Breakfast & Brunc...|Philadelphia|40.007403796|-75.212711425|Real Food Eatery|      19131|          45|           4.0|-fjIX9bvBKwXjQWfd...|   0|2019-08-28 00:45:58|    0|RloDMEbeVeg1o7v3G...|  5.0|I love this place...|     0|waOil1Oebh3XvcYSJ...|\n",
            "|4040 City Ave, Bl...|-fjIX9bvBKwXjQWfd...|Breakfast & Brunc...|Philadelphia|40.007403796|-75.212711425|Real Food Eatery|      19131|          45|           4.0|-fjIX9bvBKwXjQWfd...|   0|2019-05-30 17:52:49|    0|Vu76FNRTyniTHrx1Y...|  5.0|Love this place!S...|     1|5wSpnaLDTF8Cq4_cn...|\n",
            "|4040 City Ave, Bl...|-fjIX9bvBKwXjQWfd...|Breakfast & Brunc...|Philadelphia|40.007403796|-75.212711425|Real Food Eatery|      19131|          45|           4.0|-fjIX9bvBKwXjQWfd...|   0|2019-01-29 14:29:29|    0|fiJ7AgENW2zuPA1Wj...|  5.0|I decided to give...|     2|SXHNkZfxbRnKIWKro...|\n",
            "+--------------------+--------------------+--------------------+------------+------------+-------------+----------------+-----------+------------+--------------+--------------------+----+-------------------+-----+--------------------+-----+--------------------+------+--------------------+\n",
            "only showing top 20 rows\n",
            "\n"
          ]
        }
      ]
    },
    {
      "cell_type": "code",
      "source": [
        "#https://sparkbyexamples.com/pyspark/pyspark-select-first-row-of-each-group/\n",
        "#To select a limited number of rows per ID\n",
        "\n",
        "#Create a window function and patitionby ID column\n",
        "w2 = Window.partitionBy('ID').orderBy(col('ID'))\n",
        "\n",
        "#Add a new row column to use as an index using the function row_number, apply it on the partition by and filter first 10 rows.\n",
        "limited_df = combined_data.withColumn('row',row_number().over(w2)).filter(col('row')<=10).orderBy(combined_data.review_count.desc()).limit(10000)\n",
        "limited_df.show()"
      ],
      "metadata": {
        "colab": {
          "base_uri": "https://localhost:8080/"
        },
        "id": "afKhlJkJvCb0",
        "outputId": "1bee3e7f-8996-4b79-f717-9a477207bad4"
      },
      "execution_count": 16,
      "outputs": [
        {
          "output_type": "stream",
          "name": "stdout",
          "text": [
            "+-------------------+--------------------+--------------------+------------+-------------+--------------+--------------------+-----------+------------+--------------+--------------------+----+-------------------+-----+--------------------+-----+--------------------+------+--------------------+---+\n",
            "|            address|                  ID|          categories|        city|     latitude|     longitude|                name|postal_code|review_count|stars_business|         business_id|cool|               date|funny|           review_id|stars|                text|useful|             user_id|row|\n",
            "+-------------------+--------------------+--------------------+------------+-------------+--------------+--------------------+-----------+------------+--------------+--------------------+----+-------------------+-----+--------------------+-----+--------------------+------+--------------------+---+\n",
            "|       51 N 12th St|ytynqOUb3hjKeJfRj...|Candy Stores, Sho...|Philadelphia|39.9533414645|-75.1588545174|Reading Terminal ...|      19107|        5721|           4.5|ytynqOUb3hjKeJfRj...|   0|2016-08-25 16:30:53|    0|kKC5pBPkUCWo6mKYF...|  5.0|I love this place...|     0|mGnZFbk2gqLLtGW-m...|  1|\n",
            "|       51 N 12th St|ytynqOUb3hjKeJfRj...|Candy Stores, Sho...|Philadelphia|39.9533414645|-75.1588545174|Reading Terminal ...|      19107|        5721|           4.5|ytynqOUb3hjKeJfRj...|   0|2016-07-14 20:24:15|    0|sFQrhTbTah0o2kU_P...|  5.0|One of my favorit...|     0|Tu4ATXLhy8kRTjpQC...|  2|\n",
            "|       51 N 12th St|ytynqOUb3hjKeJfRj...|Candy Stores, Sho...|Philadelphia|39.9533414645|-75.1588545174|Reading Terminal ...|      19107|        5721|           4.5|ytynqOUb3hjKeJfRj...|   0|2017-04-07 22:27:22|    0|kqn1uP3LRVjVDUD44...|  5.0|This might be a b...|     0|vRNb2IaGlsZRA_wUf...|  3|\n",
            "|       51 N 12th St|ytynqOUb3hjKeJfRj...|Candy Stores, Sho...|Philadelphia|39.9533414645|-75.1588545174|Reading Terminal ...|      19107|        5721|           4.5|ytynqOUb3hjKeJfRj...|   3|2017-07-18 17:33:29|    2|qMsTe9QznpNQk1AKb...|  4.0|Alright, I rememb...|     5|29K-usmZfVDeIaQ85...|  4|\n",
            "|       51 N 12th St|ytynqOUb3hjKeJfRj...|Candy Stores, Sho...|Philadelphia|39.9533414645|-75.1588545174|Reading Terminal ...|      19107|        5721|           4.5|ytynqOUb3hjKeJfRj...|   0|2013-08-03 20:18:22|    0|nmMIRBNONIICe7CFH...|  4.0|It's an experienc...|     0|1jE--VcTddwXGampD...|  5|\n",
            "|       51 N 12th St|ytynqOUb3hjKeJfRj...|Candy Stores, Sho...|Philadelphia|39.9533414645|-75.1588545174|Reading Terminal ...|      19107|        5721|           4.5|ytynqOUb3hjKeJfRj...|   0|2017-02-19 17:17:57|    0|DgBsY-hNMTBWaXVlH...|  4.0|Food selection is...|     0|-x7NKQ0qAcGaabJUD...|  6|\n",
            "|       51 N 12th St|ytynqOUb3hjKeJfRj...|Candy Stores, Sho...|Philadelphia|39.9533414645|-75.1588545174|Reading Terminal ...|      19107|        5721|           4.5|ytynqOUb3hjKeJfRj...|   0|2015-08-19 10:21:14|    0|dXVhYlcX9X9kqVI16...|  5.0|fresh seafood and...|     0|lavyYLh68LxIBhJdI...|  7|\n",
            "|       51 N 12th St|ytynqOUb3hjKeJfRj...|Candy Stores, Sho...|Philadelphia|39.9533414645|-75.1588545174|Reading Terminal ...|      19107|        5721|           4.5|ytynqOUb3hjKeJfRj...|   0|2017-01-27 22:53:28|    0|9CK6oJPgJEqa9pBCA...|  5.0|Reading terminal ...|     0|5jMVOTXxWDoGx4iO9...|  8|\n",
            "|       51 N 12th St|ytynqOUb3hjKeJfRj...|Candy Stores, Sho...|Philadelphia|39.9533414645|-75.1588545174|Reading Terminal ...|      19107|        5721|           4.5|ytynqOUb3hjKeJfRj...|   0|2018-05-28 22:20:00|    0|Rab68s3xbKRyMgIVM...|  5.0|Go hungry and ear...|     0|3_4Y3BFXlhFiCiCJZ...|  9|\n",
            "|       51 N 12th St|ytynqOUb3hjKeJfRj...|Candy Stores, Sho...|Philadelphia|39.9533414645|-75.1588545174|Reading Terminal ...|      19107|        5721|           4.5|ytynqOUb3hjKeJfRj...|   0|2014-11-12 18:18:17|    0|WbaVLgs_sRJG4m2L6...|  5.0|This is a great s...|     0|pIe5kiaHa94166xDu...| 10|\n",
            "|1237 E Passyunk Ave|PP3BBaVxZLcJU54uP...|Italian, American...|Philadelphia|39.9332010583| -75.159265814|Pat's King of Steaks|      19147|        4250|           3.0|PP3BBaVxZLcJU54uP...|   2|2008-08-18 18:19:41|    1|8A5__uLlpYDaXaYNd...|  2.0|In one word: Dry....|     2|a8wKua129w25q4wtP...|  1|\n",
            "|1237 E Passyunk Ave|PP3BBaVxZLcJU54uP...|Italian, American...|Philadelphia|39.9332010583| -75.159265814|Pat's King of Steaks|      19147|        4250|           3.0|PP3BBaVxZLcJU54uP...|   0|2011-06-29 08:18:29|    0|2gM71kojjANDrJpZk...|  5.0|had cheese steaks...|     0|xwt7dExAWe9HsV8LS...|  2|\n",
            "|1237 E Passyunk Ave|PP3BBaVxZLcJU54uP...|Italian, American...|Philadelphia|39.9332010583| -75.159265814|Pat's King of Steaks|      19147|        4250|           3.0|PP3BBaVxZLcJU54uP...|   0|2016-01-04 03:18:23|    0|0kqSudmDoJhdq6tns...|  5.0|Hands down the be...|     0|YEwOsY8D0_MFaI_fG...|  3|\n",
            "|1237 E Passyunk Ave|PP3BBaVxZLcJU54uP...|Italian, American...|Philadelphia|39.9332010583| -75.159265814|Pat's King of Steaks|      19147|        4250|           3.0|PP3BBaVxZLcJU54uP...|   0|2013-09-03 23:47:42|    0|aBh6_BV-f7MjbE16I...|  2.0|So basically beca...|     0|Qb3WSjOsDTinmc_A8...|  4|\n",
            "|1237 E Passyunk Ave|PP3BBaVxZLcJU54uP...|Italian, American...|Philadelphia|39.9332010583| -75.159265814|Pat's King of Steaks|      19147|        4250|           3.0|PP3BBaVxZLcJU54uP...|   0|2017-01-15 01:06:43|    0|vxhF8P681sA_nV1yv...|  1.0|You. Are. Kidding...|     0|QzM3olcz5wKasQKqL...|  5|\n",
            "|1237 E Passyunk Ave|PP3BBaVxZLcJU54uP...|Italian, American...|Philadelphia|39.9332010583| -75.159265814|Pat's King of Steaks|      19147|        4250|           3.0|PP3BBaVxZLcJU54uP...|   0|2009-05-20 03:54:59|    0|zTIdESODBypD8v3Sk...|  4.0|I can't really co...|     0|KM72o6F0BLWJKgfGv...|  6|\n",
            "|1237 E Passyunk Ave|PP3BBaVxZLcJU54uP...|Italian, American...|Philadelphia|39.9332010583| -75.159265814|Pat's King of Steaks|      19147|        4250|           3.0|PP3BBaVxZLcJU54uP...|   0|2016-10-26 16:13:24|    0|PvWRtR_58oi_T9Pfb...|  5.0|Never fails to hi...|     0|yQVQDr4p9P3PEDE5n...|  7|\n",
            "|1237 E Passyunk Ave|PP3BBaVxZLcJU54uP...|Italian, American...|Philadelphia|39.9332010583| -75.159265814|Pat's King of Steaks|      19147|        4250|           3.0|PP3BBaVxZLcJU54uP...|   0|2007-05-20 14:52:18|    0|NQu0tvOvBrm3Kz1mK...|  4.0|Finally a real Ph...|     0|LAAuycmn_2knS2Nst...|  8|\n",
            "|1237 E Passyunk Ave|PP3BBaVxZLcJU54uP...|Italian, American...|Philadelphia|39.9332010583| -75.159265814|Pat's King of Steaks|      19147|        4250|           3.0|PP3BBaVxZLcJU54uP...|   0|2014-05-25 23:20:20|    0|gJ5VYnsqnelPmG5Ba...|  4.0|Claim to be the i...|     0|IdV-Y-VKTGK4ug4nG...|  9|\n",
            "|1237 E Passyunk Ave|PP3BBaVxZLcJU54uP...|Italian, American...|Philadelphia|39.9332010583| -75.159265814|Pat's King of Steaks|      19147|        4250|           3.0|PP3BBaVxZLcJU54uP...|   0|2014-10-27 02:45:12|    0|y8DyPWzKxmrPvVM0c...|  2.0|Its not as good a...|     0|K-9a1lPwY0COz0U35...| 10|\n",
            "+-------------------+--------------------+--------------------+------------+-------------+--------------+--------------------+-----------+------------+--------------+--------------------+----+-------------------+-----+--------------------+-----+--------------------+------+--------------------+---+\n",
            "only showing top 20 rows\n",
            "\n"
          ]
        }
      ]
    },
    {
      "cell_type": "code",
      "source": [
        "#Count the total of rows in limited df\n",
        "limited_df.count()"
      ],
      "metadata": {
        "colab": {
          "base_uri": "https://localhost:8080/"
        },
        "id": "mZmvgRkCvC7L",
        "outputId": "d79af5c8-394f-4663-d3b7-19c1625e0ea7"
      },
      "execution_count": 17,
      "outputs": [
        {
          "output_type": "execute_result",
          "data": {
            "text/plain": [
              "10000"
            ]
          },
          "metadata": {},
          "execution_count": 17
        }
      ]
    },
    {
      "cell_type": "code",
      "source": [
        "#Drop columns that are not needed\n",
        "cleaned_df = limited_df.drop('address','attributes','hours','is_open','postal_code','state','business_id','cool','date','funny','useful','row')\n",
        "\n",
        "#Rename ambiguous columns\n",
        "cleaned_df = cleaned_df.withColumnRenamed('ID','business_id' )\n",
        "cleaned_df = cleaned_df.withColumnRenamed('stars','stars_review' ) \n",
        "\n",
        "cleaned_df.show()"
      ],
      "metadata": {
        "colab": {
          "base_uri": "https://localhost:8080/"
        },
        "id": "eNb50PFG8a3Y",
        "outputId": "b3747613-8bd5-46d5-c100-f1077c569be2"
      },
      "execution_count": 18,
      "outputs": [
        {
          "output_type": "stream",
          "name": "stdout",
          "text": [
            "+--------------------+--------------------+------------+-------------+--------------+--------------------+------------+--------------+--------------------+------------+--------------------+--------------------+\n",
            "|         business_id|          categories|        city|     latitude|     longitude|                name|review_count|stars_business|           review_id|stars_review|                text|             user_id|\n",
            "+--------------------+--------------------+------------+-------------+--------------+--------------------+------------+--------------+--------------------+------------+--------------------+--------------------+\n",
            "|ytynqOUb3hjKeJfRj...|Candy Stores, Sho...|Philadelphia|39.9533414645|-75.1588545174|Reading Terminal ...|        5721|           4.5|kKC5pBPkUCWo6mKYF...|         5.0|I love this place...|mGnZFbk2gqLLtGW-m...|\n",
            "|ytynqOUb3hjKeJfRj...|Candy Stores, Sho...|Philadelphia|39.9533414645|-75.1588545174|Reading Terminal ...|        5721|           4.5|sFQrhTbTah0o2kU_P...|         5.0|One of my favorit...|Tu4ATXLhy8kRTjpQC...|\n",
            "|ytynqOUb3hjKeJfRj...|Candy Stores, Sho...|Philadelphia|39.9533414645|-75.1588545174|Reading Terminal ...|        5721|           4.5|kqn1uP3LRVjVDUD44...|         5.0|This might be a b...|vRNb2IaGlsZRA_wUf...|\n",
            "|ytynqOUb3hjKeJfRj...|Candy Stores, Sho...|Philadelphia|39.9533414645|-75.1588545174|Reading Terminal ...|        5721|           4.5|qMsTe9QznpNQk1AKb...|         4.0|Alright, I rememb...|29K-usmZfVDeIaQ85...|\n",
            "|ytynqOUb3hjKeJfRj...|Candy Stores, Sho...|Philadelphia|39.9533414645|-75.1588545174|Reading Terminal ...|        5721|           4.5|nmMIRBNONIICe7CFH...|         4.0|It's an experienc...|1jE--VcTddwXGampD...|\n",
            "|ytynqOUb3hjKeJfRj...|Candy Stores, Sho...|Philadelphia|39.9533414645|-75.1588545174|Reading Terminal ...|        5721|           4.5|DgBsY-hNMTBWaXVlH...|         4.0|Food selection is...|-x7NKQ0qAcGaabJUD...|\n",
            "|ytynqOUb3hjKeJfRj...|Candy Stores, Sho...|Philadelphia|39.9533414645|-75.1588545174|Reading Terminal ...|        5721|           4.5|dXVhYlcX9X9kqVI16...|         5.0|fresh seafood and...|lavyYLh68LxIBhJdI...|\n",
            "|ytynqOUb3hjKeJfRj...|Candy Stores, Sho...|Philadelphia|39.9533414645|-75.1588545174|Reading Terminal ...|        5721|           4.5|9CK6oJPgJEqa9pBCA...|         5.0|Reading terminal ...|5jMVOTXxWDoGx4iO9...|\n",
            "|ytynqOUb3hjKeJfRj...|Candy Stores, Sho...|Philadelphia|39.9533414645|-75.1588545174|Reading Terminal ...|        5721|           4.5|Rab68s3xbKRyMgIVM...|         5.0|Go hungry and ear...|3_4Y3BFXlhFiCiCJZ...|\n",
            "|ytynqOUb3hjKeJfRj...|Candy Stores, Sho...|Philadelphia|39.9533414645|-75.1588545174|Reading Terminal ...|        5721|           4.5|WbaVLgs_sRJG4m2L6...|         5.0|This is a great s...|pIe5kiaHa94166xDu...|\n",
            "|PP3BBaVxZLcJU54uP...|Italian, American...|Philadelphia|39.9332010583| -75.159265814|Pat's King of Steaks|        4250|           3.0|8A5__uLlpYDaXaYNd...|         2.0|In one word: Dry....|a8wKua129w25q4wtP...|\n",
            "|PP3BBaVxZLcJU54uP...|Italian, American...|Philadelphia|39.9332010583| -75.159265814|Pat's King of Steaks|        4250|           3.0|2gM71kojjANDrJpZk...|         5.0|had cheese steaks...|xwt7dExAWe9HsV8LS...|\n",
            "|PP3BBaVxZLcJU54uP...|Italian, American...|Philadelphia|39.9332010583| -75.159265814|Pat's King of Steaks|        4250|           3.0|0kqSudmDoJhdq6tns...|         5.0|Hands down the be...|YEwOsY8D0_MFaI_fG...|\n",
            "|PP3BBaVxZLcJU54uP...|Italian, American...|Philadelphia|39.9332010583| -75.159265814|Pat's King of Steaks|        4250|           3.0|aBh6_BV-f7MjbE16I...|         2.0|So basically beca...|Qb3WSjOsDTinmc_A8...|\n",
            "|PP3BBaVxZLcJU54uP...|Italian, American...|Philadelphia|39.9332010583| -75.159265814|Pat's King of Steaks|        4250|           3.0|vxhF8P681sA_nV1yv...|         1.0|You. Are. Kidding...|QzM3olcz5wKasQKqL...|\n",
            "|PP3BBaVxZLcJU54uP...|Italian, American...|Philadelphia|39.9332010583| -75.159265814|Pat's King of Steaks|        4250|           3.0|zTIdESODBypD8v3Sk...|         4.0|I can't really co...|KM72o6F0BLWJKgfGv...|\n",
            "|PP3BBaVxZLcJU54uP...|Italian, American...|Philadelphia|39.9332010583| -75.159265814|Pat's King of Steaks|        4250|           3.0|PvWRtR_58oi_T9Pfb...|         5.0|Never fails to hi...|yQVQDr4p9P3PEDE5n...|\n",
            "|PP3BBaVxZLcJU54uP...|Italian, American...|Philadelphia|39.9332010583| -75.159265814|Pat's King of Steaks|        4250|           3.0|NQu0tvOvBrm3Kz1mK...|         4.0|Finally a real Ph...|LAAuycmn_2knS2Nst...|\n",
            "|PP3BBaVxZLcJU54uP...|Italian, American...|Philadelphia|39.9332010583| -75.159265814|Pat's King of Steaks|        4250|           3.0|gJ5VYnsqnelPmG5Ba...|         4.0|Claim to be the i...|IdV-Y-VKTGK4ug4nG...|\n",
            "|PP3BBaVxZLcJU54uP...|Italian, American...|Philadelphia|39.9332010583| -75.159265814|Pat's King of Steaks|        4250|           3.0|y8DyPWzKxmrPvVM0c...|         2.0|Its not as good a...|K-9a1lPwY0COz0U35...|\n",
            "+--------------------+--------------------+------------+-------------+--------------+--------------------+------------+--------------+--------------------+------------+--------------------+--------------------+\n",
            "only showing top 20 rows\n",
            "\n"
          ]
        }
      ]
    },
    {
      "cell_type": "code",
      "source": [
        "#Erase from column 'text' \\n, \\t, ','\n",
        "#https://sparkbyexamples.com/pyspark/pyspark-replace-column-values/#:~:text=By%20using%20PySpark%20SQL%20function,Road%20string%20on%20address%20column.\n",
        "from pyspark.sql.functions import regexp_replace, when\n",
        "\n",
        "cleaned_df = cleaned_df.withColumn('text',\n",
        "                       when(cleaned_df.text.contains('\\n'),regexp_replace(cleaned_df.text,'\\n',';')) \\\n",
        "                      .when(cleaned_df.text.contains('\\t'),regexp_replace(cleaned_df.text,'\\t',';')) \\\n",
        "                      .when(cleaned_df.text.contains(','),regexp_replace(cleaned_df.text,',',';')) \\\n",
        "                      .when(cleaned_df.text.contains('\\\\'),regexp_replace(cleaned_df.text,'\\\\',';')) \\\n",
        "                      .when(cleaned_df.text.contains('\\s'),regexp_replace(cleaned_df.text,'\\s',';'))\n",
        "                      )\n"
      ],
      "metadata": {
        "id": "0_-OrYlRXjux"
      },
      "execution_count": 19,
      "outputs": []
    },
    {
      "cell_type": "code",
      "source": [
        "cleaned_df.printSchema()"
      ],
      "metadata": {
        "colab": {
          "base_uri": "https://localhost:8080/"
        },
        "id": "0rBPHPn4vDEl",
        "outputId": "a2507b67-124f-45cc-a8b9-ba7c8d641e6a"
      },
      "execution_count": 20,
      "outputs": [
        {
          "output_type": "stream",
          "name": "stdout",
          "text": [
            "root\n",
            " |-- business_id: string (nullable = true)\n",
            " |-- categories: string (nullable = true)\n",
            " |-- city: string (nullable = true)\n",
            " |-- latitude: double (nullable = true)\n",
            " |-- longitude: double (nullable = true)\n",
            " |-- name: string (nullable = true)\n",
            " |-- review_count: long (nullable = true)\n",
            " |-- stars_business: double (nullable = true)\n",
            " |-- review_id: string (nullable = true)\n",
            " |-- stars_review: double (nullable = true)\n",
            " |-- text: string (nullable = true)\n",
            " |-- user_id: string (nullable = true)\n",
            "\n"
          ]
        }
      ]
    },
    {
      "cell_type": "code",
      "source": [
        "#Store PySpark dataframe to csv file\n",
        "#lim2.write.option(\"header\",True).csv('csv/', mode='overwrite')\n",
        "cleaned_df.write.options(header=True, delimiter=\",\").csv('csv2/', mode='overwrite')\n",
        "\n",
        "#To save dataframe intro csv\n",
        "#https://dbmstutorials.com/pyspark/spark-read-write-dataframe-options.html\n",
        "\n",
        "#To store in S3\n",
        "\n",
        "#https://sparkbyexamples.com/spark/spark-write-dataframe-to-csv-file/#:~:text=In%20Spark%2C%20you%20can%20save,any%20Spark%20supported%20file%20systems.\n",
        "\n",
        "#https://towardsdatascience.com/how-to-upload-and-download-files-from-aws-s3-using-python-2022-4c9b787b15f2"
      ],
      "metadata": {
        "id": "FnEHbk_GoeGx"
      },
      "execution_count": 21,
      "outputs": []
    },
    {
      "cell_type": "code",
      "source": [],
      "metadata": {
        "id": "bMSm0w6aSd_q"
      },
      "execution_count": 21,
      "outputs": []
    }
  ]
}